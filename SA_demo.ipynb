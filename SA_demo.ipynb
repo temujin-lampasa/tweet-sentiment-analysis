{
 "cells": [
  {
   "cell_type": "code",
   "execution_count": 1,
   "id": "silver-saying",
   "metadata": {},
   "outputs": [],
   "source": [
    "import pandas as pd\n",
    "import nltk\n",
    "from nltk.corpus import stopwords\n",
    "import re\n",
    "from gensim.models import Word2Vec\n",
    "# from sklearn.naive_bayes import GaussianNB\n",
    "from sklearn.ensemble import RandomForestClassifier\n",
    "import numpy as np\n",
    "from sklearn.metrics import plot_confusion_matrix\n",
    "import matplotlib.pyplot as plt"
   ]
  },
  {
   "cell_type": "markdown",
   "id": "powerful-triangle",
   "metadata": {},
   "source": [
    "Dataset: https://www.kaggle.com/kazanova/sentiment140"
   ]
  },
  {
   "cell_type": "code",
   "execution_count": 2,
   "id": "informative-origin",
   "metadata": {},
   "outputs": [],
   "source": [
    "df = pd.read_csv(\"training.1600000.processed.noemoticon.csv\", header=None, encoding = \"ISO-8859-1\")\n",
    "df.columns = ['target', 'id', 'date', 'flag', 'user', 'text']"
   ]
  },
  {
   "cell_type": "code",
   "execution_count": 3,
   "id": "dutch-event",
   "metadata": {},
   "outputs": [
    {
     "data": {
      "text/html": [
       "<div>\n",
       "<style scoped>\n",
       "    .dataframe tbody tr th:only-of-type {\n",
       "        vertical-align: middle;\n",
       "    }\n",
       "\n",
       "    .dataframe tbody tr th {\n",
       "        vertical-align: top;\n",
       "    }\n",
       "\n",
       "    .dataframe thead th {\n",
       "        text-align: right;\n",
       "    }\n",
       "</style>\n",
       "<table border=\"1\" class=\"dataframe\">\n",
       "  <thead>\n",
       "    <tr style=\"text-align: right;\">\n",
       "      <th></th>\n",
       "      <th>target</th>\n",
       "      <th>id</th>\n",
       "      <th>date</th>\n",
       "      <th>flag</th>\n",
       "      <th>user</th>\n",
       "      <th>text</th>\n",
       "    </tr>\n",
       "  </thead>\n",
       "  <tbody>\n",
       "    <tr>\n",
       "      <th>0</th>\n",
       "      <td>0</td>\n",
       "      <td>1467810369</td>\n",
       "      <td>Mon Apr 06 22:19:45 PDT 2009</td>\n",
       "      <td>NO_QUERY</td>\n",
       "      <td>_TheSpecialOne_</td>\n",
       "      <td>@switchfoot http://twitpic.com/2y1zl - Awww, t...</td>\n",
       "    </tr>\n",
       "    <tr>\n",
       "      <th>1</th>\n",
       "      <td>0</td>\n",
       "      <td>1467810672</td>\n",
       "      <td>Mon Apr 06 22:19:49 PDT 2009</td>\n",
       "      <td>NO_QUERY</td>\n",
       "      <td>scotthamilton</td>\n",
       "      <td>is upset that he can't update his Facebook by ...</td>\n",
       "    </tr>\n",
       "    <tr>\n",
       "      <th>2</th>\n",
       "      <td>0</td>\n",
       "      <td>1467810917</td>\n",
       "      <td>Mon Apr 06 22:19:53 PDT 2009</td>\n",
       "      <td>NO_QUERY</td>\n",
       "      <td>mattycus</td>\n",
       "      <td>@Kenichan I dived many times for the ball. Man...</td>\n",
       "    </tr>\n",
       "    <tr>\n",
       "      <th>3</th>\n",
       "      <td>0</td>\n",
       "      <td>1467811184</td>\n",
       "      <td>Mon Apr 06 22:19:57 PDT 2009</td>\n",
       "      <td>NO_QUERY</td>\n",
       "      <td>ElleCTF</td>\n",
       "      <td>my whole body feels itchy and like its on fire</td>\n",
       "    </tr>\n",
       "    <tr>\n",
       "      <th>4</th>\n",
       "      <td>0</td>\n",
       "      <td>1467811193</td>\n",
       "      <td>Mon Apr 06 22:19:57 PDT 2009</td>\n",
       "      <td>NO_QUERY</td>\n",
       "      <td>Karoli</td>\n",
       "      <td>@nationwideclass no, it's not behaving at all....</td>\n",
       "    </tr>\n",
       "  </tbody>\n",
       "</table>\n",
       "</div>"
      ],
      "text/plain": [
       "   target          id                          date      flag  \\\n",
       "0       0  1467810369  Mon Apr 06 22:19:45 PDT 2009  NO_QUERY   \n",
       "1       0  1467810672  Mon Apr 06 22:19:49 PDT 2009  NO_QUERY   \n",
       "2       0  1467810917  Mon Apr 06 22:19:53 PDT 2009  NO_QUERY   \n",
       "3       0  1467811184  Mon Apr 06 22:19:57 PDT 2009  NO_QUERY   \n",
       "4       0  1467811193  Mon Apr 06 22:19:57 PDT 2009  NO_QUERY   \n",
       "\n",
       "              user                                               text  \n",
       "0  _TheSpecialOne_  @switchfoot http://twitpic.com/2y1zl - Awww, t...  \n",
       "1    scotthamilton  is upset that he can't update his Facebook by ...  \n",
       "2         mattycus  @Kenichan I dived many times for the ball. Man...  \n",
       "3          ElleCTF    my whole body feels itchy and like its on fire   \n",
       "4           Karoli  @nationwideclass no, it's not behaving at all....  "
      ]
     },
     "execution_count": 3,
     "metadata": {},
     "output_type": "execute_result"
    }
   ],
   "source": [
    "df.head()"
   ]
  },
  {
   "cell_type": "code",
   "execution_count": 4,
   "id": "golden-martin",
   "metadata": {},
   "outputs": [],
   "source": [
    "# Select equal number of positives and negatives\n",
    "SIZE = 1_000_000\n",
    "HALF = df.shape[0]//2\n",
    "df = df[HALF-SIZE//2 : HALF + SIZE//2]\n",
    "df = df[['target', 'text']]\n",
    "\n",
    "# Convert 4 (positive sentiment) to 1\n",
    "df['target'].loc[df['target']==4]=1"
   ]
  },
  {
   "cell_type": "code",
   "execution_count": 5,
   "id": "equivalent-platform",
   "metadata": {},
   "outputs": [
    {
     "data": {
      "text/plain": [
       "0    500000\n",
       "1    500000\n",
       "Name: target, dtype: int64"
      ]
     },
     "execution_count": 5,
     "metadata": {},
     "output_type": "execute_result"
    }
   ],
   "source": [
    "df['target'].value_counts()"
   ]
  },
  {
   "cell_type": "markdown",
   "id": "canadian-glory",
   "metadata": {},
   "source": [
    "#### Preprocessing:"
   ]
  },
  {
   "cell_type": "markdown",
   "id": "incoming-installation",
   "metadata": {},
   "source": [
    "From: https://github.com/francisbautista/cs174/blob/master/Notebooks/L04%20-%20Word2Vec.ipynb"
   ]
  },
  {
   "cell_type": "code",
   "execution_count": 6,
   "id": "emerging-format",
   "metadata": {},
   "outputs": [],
   "source": [
    "stop = set(stopwords.words('english'))\n",
    "negation = {\"arent\", \"didnt\", \"doesnt\", \"dont\", \"isnt\", 'no', 'not', \"wasnt\", \"couldnt\", \"werent\", \"shouldnt\", \"mightnt\", \"shouldnt\"}\n",
    "stop = stop - negation\n",
    "\n",
    "def preprocess(text):\n",
    "    text=text.lower()\n",
    "    text=re.sub('[^0-9a-z]+',' ',text)\n",
    "    split = text.split()\n",
    "    stopped = [i for i in split if i not in stop]\n",
    "    return(stopped)"
   ]
  },
  {
   "cell_type": "code",
   "execution_count": 7,
   "id": "organic-patrick",
   "metadata": {},
   "outputs": [],
   "source": [
    "df['text'] = df['text'].apply(preprocess)"
   ]
  },
  {
   "cell_type": "markdown",
   "id": "earned-resident",
   "metadata": {
    "tags": []
   },
   "source": [
    "#### Find word embeddings with Word2Vec"
   ]
  },
  {
   "cell_type": "code",
   "execution_count": 8,
   "id": "maritime-future",
   "metadata": {},
   "outputs": [],
   "source": [
    "model = Word2Vec(vector_size=100,window=5,min_count=30, sg=0, alpha = 0.025)\n",
    "model.build_vocab(df['text'])"
   ]
  },
  {
   "cell_type": "code",
   "execution_count": 9,
   "id": "centered-decrease",
   "metadata": {},
   "outputs": [
    {
     "data": {
      "text/plain": [
       "(129076790, 159822620)"
      ]
     },
     "execution_count": 9,
     "metadata": {},
     "output_type": "execute_result"
    }
   ],
   "source": [
    "model.train(df['text'], total_examples=model.corpus_count, epochs=20)"
   ]
  },
  {
   "cell_type": "code",
   "execution_count": 10,
   "id": "affected-indicator",
   "metadata": {},
   "outputs": [
    {
     "data": {
      "text/plain": [
       "array([-1.458461  , -1.0490386 , -0.36907503, -0.41047382,  1.0222993 ,\n",
       "        0.2791059 ,  1.6138996 , -1.2785671 ,  1.0478672 ,  0.57160795,\n",
       "        2.0259926 , -1.517303  ,  0.5887529 ,  0.8480127 ,  0.21396309,\n",
       "       -2.1308403 ,  0.21341072, -1.6358969 ,  2.3191242 ,  2.3746486 ,\n",
       "       -0.42181635,  1.7573304 , -1.111119  ,  0.59351957,  0.15789953,\n",
       "       -0.2327465 , -2.0046015 ,  0.0714898 ,  0.27155408, -0.84404284,\n",
       "       -0.52713525, -1.6555046 ,  1.4264748 , -1.6620305 , -2.3807256 ,\n",
       "       -0.10868134,  1.439591  ,  0.27008477,  4.0741167 , -2.380836  ,\n",
       "        1.8581498 ,  1.7597046 , -0.99402887, -0.6071083 , -0.4343107 ,\n",
       "       -0.07155914,  2.2356493 ,  1.6671185 ,  0.8967986 ,  3.6181376 ,\n",
       "        0.17884342, -0.9947086 , -0.36112237,  0.47174466, -0.92439556,\n",
       "       -0.47028798,  1.9002432 , -2.7159307 ,  2.4127095 ,  0.8648189 ,\n",
       "        1.2864494 , -0.5165195 , -0.09358399,  2.6398926 , -0.69862443,\n",
       "        0.7661021 , -0.40753338, -3.0880566 , -0.52926356, -2.4124658 ,\n",
       "        0.55754566, -1.3487924 , -0.05852081, -0.5090951 , -2.4877985 ,\n",
       "        0.55030096,  0.2018591 ,  0.2837322 , -2.199608  ,  0.6171311 ,\n",
       "       -0.277844  , -0.13469598,  1.1821655 ,  0.14386275,  0.70116687,\n",
       "       -0.97581744,  1.2718712 ,  0.76724094,  1.3936443 ,  0.93913424,\n",
       "       -1.0904428 ,  2.3098493 ,  0.18168996, -0.5726743 , -0.67915136,\n",
       "        1.2352669 ,  1.2131497 ,  1.3608979 , -1.0092281 , -0.5174694 ],\n",
       "      dtype=float32)"
      ]
     },
     "execution_count": 10,
     "metadata": {},
     "output_type": "execute_result"
    }
   ],
   "source": [
    "model.wv['test']"
   ]
  },
  {
   "cell_type": "code",
   "execution_count": 11,
   "id": "running-buddy",
   "metadata": {},
   "outputs": [
    {
     "data": {
      "text/plain": [
       "[('exam', 0.7885432839393616),\n",
       " ('tests', 0.7443763017654419),\n",
       " ('regents', 0.7380606532096863),\n",
       " ('midterm', 0.6947118043899536),\n",
       " ('math', 0.6762940883636475),\n",
       " ('calculus', 0.6719021797180176),\n",
       " ('biology', 0.6690829396247864),\n",
       " ('calc', 0.6648274064064026),\n",
       " ('physics', 0.6648216843605042),\n",
       " ('gcse', 0.6635955572128296)]"
      ]
     },
     "execution_count": 11,
     "metadata": {},
     "output_type": "execute_result"
    }
   ],
   "source": [
    "model.wv.most_similar('test')"
   ]
  },
  {
   "cell_type": "markdown",
   "id": "metropolitan-community",
   "metadata": {},
   "source": [
    "#### Get avg. vector for each tweet"
   ]
  },
  {
   "cell_type": "code",
   "execution_count": 12,
   "id": "requested-support",
   "metadata": {},
   "outputs": [],
   "source": [
    "# http://yaronvazana.com/2018/09/20/average-word-vectors-generate-document-paragraph-sentence-embeddings/\n",
    "\n",
    "def get_avg_vec(list_of_words, model=None):\n",
    "    words = [word for word in list_of_words if word in model.wv]\n",
    "    \n",
    "    if len(words) > 0:\n",
    "        res = np.mean(model.wv[words], axis=0)\n",
    "    else:\n",
    "        res = np.zeros(model.vector_size)\n",
    "    return res"
   ]
  },
  {
   "cell_type": "code",
   "execution_count": 13,
   "id": "stunning-outdoors",
   "metadata": {},
   "outputs": [],
   "source": [
    "df['avg_vec'] = df['text'].apply(get_avg_vec, model=model)"
   ]
  },
  {
   "cell_type": "code",
   "execution_count": 14,
   "id": "liable-price",
   "metadata": {},
   "outputs": [
    {
     "data": {
      "text/html": [
       "<div>\n",
       "<style scoped>\n",
       "    .dataframe tbody tr th:only-of-type {\n",
       "        vertical-align: middle;\n",
       "    }\n",
       "\n",
       "    .dataframe tbody tr th {\n",
       "        vertical-align: top;\n",
       "    }\n",
       "\n",
       "    .dataframe thead th {\n",
       "        text-align: right;\n",
       "    }\n",
       "</style>\n",
       "<table border=\"1\" class=\"dataframe\">\n",
       "  <thead>\n",
       "    <tr style=\"text-align: right;\">\n",
       "      <th></th>\n",
       "      <th>target</th>\n",
       "      <th>text</th>\n",
       "      <th>avg_vec</th>\n",
       "    </tr>\n",
       "  </thead>\n",
       "  <tbody>\n",
       "    <tr>\n",
       "      <th>0</th>\n",
       "      <td>0</td>\n",
       "      <td>[tuquyenmach, sasha, probably]</td>\n",
       "      <td>[0.20705336, 0.16301805, -0.10401443, -0.71160...</td>\n",
       "    </tr>\n",
       "    <tr>\n",
       "      <th>1</th>\n",
       "      <td>0</td>\n",
       "      <td>[ohhh, logan, gov, site, look, new, dogs, pound]</td>\n",
       "      <td>[-0.39543203, -0.03729804, -0.07928294, 0.0141...</td>\n",
       "    </tr>\n",
       "    <tr>\n",
       "      <th>2</th>\n",
       "      <td>0</td>\n",
       "      <td>[loved, trailer, waas, great, great, great, wo...</td>\n",
       "      <td>[0.10155979, -1.1548122, 0.26084587, -0.031069...</td>\n",
       "    </tr>\n",
       "    <tr>\n",
       "      <th>3</th>\n",
       "      <td>0</td>\n",
       "      <td>[tthompson1969, f, er, see, stay, away, cesspi...</td>\n",
       "      <td>[-0.75571346, 0.3058267, 0.4744431, 0.13318528...</td>\n",
       "    </tr>\n",
       "    <tr>\n",
       "      <th>4</th>\n",
       "      <td>0</td>\n",
       "      <td>[today, el, salvador, swore, first, far, left,...</td>\n",
       "      <td>[-0.9282821, -0.38437146, -0.17503935, -0.1125...</td>\n",
       "    </tr>\n",
       "    <tr>\n",
       "      <th>...</th>\n",
       "      <td>...</td>\n",
       "      <td>...</td>\n",
       "      <td>...</td>\n",
       "    </tr>\n",
       "    <tr>\n",
       "      <th>999995</th>\n",
       "      <td>1</td>\n",
       "      <td>[watching, horton, hears, tasha, apartment]</td>\n",
       "      <td>[0.46412435, -0.3430474, 0.55459565, 0.0192161...</td>\n",
       "    </tr>\n",
       "    <tr>\n",
       "      <th>999996</th>\n",
       "      <td>1</td>\n",
       "      <td>[shama, r, u, friendfeed, got, friend, request...</td>\n",
       "      <td>[-0.080343485, -0.56498766, 0.44686127, -0.214...</td>\n",
       "    </tr>\n",
       "    <tr>\n",
       "      <th>999997</th>\n",
       "      <td>1</td>\n",
       "      <td>[shinepetphotos, thanks, comments, grace, reco...</td>\n",
       "      <td>[-0.0982476, -0.27030215, -0.02498053, 0.61749...</td>\n",
       "    </tr>\n",
       "    <tr>\n",
       "      <th>999998</th>\n",
       "      <td>1</td>\n",
       "      <td>[looking, launch, unique, art, web, store, uni...</td>\n",
       "      <td>[0.7315175, -0.538476, 0.48641142, 0.3159832, ...</td>\n",
       "    </tr>\n",
       "    <tr>\n",
       "      <th>999999</th>\n",
       "      <td>1</td>\n",
       "      <td>[new, blog, potential, cake, diaster, ahhhh, w...</td>\n",
       "      <td>[0.74597806, -1.4428394, -0.4017864, -0.966193...</td>\n",
       "    </tr>\n",
       "  </tbody>\n",
       "</table>\n",
       "<p>1000000 rows × 3 columns</p>\n",
       "</div>"
      ],
      "text/plain": [
       "        target                                               text  \\\n",
       "0            0                     [tuquyenmach, sasha, probably]   \n",
       "1            0   [ohhh, logan, gov, site, look, new, dogs, pound]   \n",
       "2            0  [loved, trailer, waas, great, great, great, wo...   \n",
       "3            0  [tthompson1969, f, er, see, stay, away, cesspi...   \n",
       "4            0  [today, el, salvador, swore, first, far, left,...   \n",
       "...        ...                                                ...   \n",
       "999995       1        [watching, horton, hears, tasha, apartment]   \n",
       "999996       1  [shama, r, u, friendfeed, got, friend, request...   \n",
       "999997       1  [shinepetphotos, thanks, comments, grace, reco...   \n",
       "999998       1  [looking, launch, unique, art, web, store, uni...   \n",
       "999999       1  [new, blog, potential, cake, diaster, ahhhh, w...   \n",
       "\n",
       "                                                  avg_vec  \n",
       "0       [0.20705336, 0.16301805, -0.10401443, -0.71160...  \n",
       "1       [-0.39543203, -0.03729804, -0.07928294, 0.0141...  \n",
       "2       [0.10155979, -1.1548122, 0.26084587, -0.031069...  \n",
       "3       [-0.75571346, 0.3058267, 0.4744431, 0.13318528...  \n",
       "4       [-0.9282821, -0.38437146, -0.17503935, -0.1125...  \n",
       "...                                                   ...  \n",
       "999995  [0.46412435, -0.3430474, 0.55459565, 0.0192161...  \n",
       "999996  [-0.080343485, -0.56498766, 0.44686127, -0.214...  \n",
       "999997  [-0.0982476, -0.27030215, -0.02498053, 0.61749...  \n",
       "999998  [0.7315175, -0.538476, 0.48641142, 0.3159832, ...  \n",
       "999999  [0.74597806, -1.4428394, -0.4017864, -0.966193...  \n",
       "\n",
       "[1000000 rows x 3 columns]"
      ]
     },
     "execution_count": 14,
     "metadata": {},
     "output_type": "execute_result"
    }
   ],
   "source": [
    "df.reset_index(drop=True, inplace=True)\n",
    "df"
   ]
  },
  {
   "cell_type": "markdown",
   "id": "saving-alloy",
   "metadata": {},
   "source": [
    "#### Split into train, test, validation sets\n",
    "\n",
    "* 70% = training\n",
    "* 15% = test\n",
    "* 15% = validation"
   ]
  },
  {
   "cell_type": "markdown",
   "id": "offshore-galaxy",
   "metadata": {},
   "source": [
    "Shuffle the dataset:"
   ]
  },
  {
   "cell_type": "code",
   "execution_count": 19,
   "id": "informed-lawyer",
   "metadata": {},
   "outputs": [],
   "source": [
    "df_shuffled = df.sample(frac=1)\n",
    "df_shuffled.reset_index(inplace=True, drop=True)"
   ]
  },
  {
   "cell_type": "code",
   "execution_count": 20,
   "id": "polyphonic-bryan",
   "metadata": {},
   "outputs": [],
   "source": [
    "train_set = df_shuffled.iloc[:700_000]\n",
    "test_set = df_shuffled.iloc[700_000:850_000]\n",
    "val_set = df_shuffled.iloc[850_000:]\n",
    "\n",
    "X_train = train_set['avg_vec'].to_numpy().reshape(-1, 1)\n",
    "y_train = train_set['target'].to_numpy()\n",
    "\n",
    "X_test = test_set['avg_vec'].to_numpy().reshape(-1, 1)\n",
    "y_test = test_set['target']\n",
    "\n",
    "X_val = val_set['avg_vec'].to_numpy().reshape(-1, 1)\n",
    "y_val = val_set['target']"
   ]
  },
  {
   "cell_type": "code",
   "execution_count": 21,
   "id": "sitting-force",
   "metadata": {},
   "outputs": [],
   "source": [
    "X_train = np.concatenate(np.concatenate(X_train, axis=0), axis=0).reshape(-1, 100)\n",
    "X_test = np.concatenate(np.concatenate(X_test, axis=0), axis=0).reshape(-1, 100)\n",
    "X_val = np.concatenate(np.concatenate(X_val, axis=0), axis=0).reshape(-1, 100)"
   ]
  },
  {
   "cell_type": "code",
   "execution_count": 22,
   "id": "certain-spirituality",
   "metadata": {},
   "outputs": [
    {
     "data": {
      "text/plain": [
       "(700000, 100)"
      ]
     },
     "execution_count": 22,
     "metadata": {},
     "output_type": "execute_result"
    }
   ],
   "source": [
    "X_train.shape"
   ]
  },
  {
   "cell_type": "markdown",
   "id": "dedicated-loading",
   "metadata": {},
   "source": [
    "#### Classify with RandomForest"
   ]
  },
  {
   "cell_type": "code",
   "execution_count": 23,
   "id": "serial-harvey",
   "metadata": {},
   "outputs": [
    {
     "data": {
      "text/plain": [
       "RandomForestClassifier()"
      ]
     },
     "execution_count": 23,
     "metadata": {},
     "output_type": "execute_result"
    }
   ],
   "source": [
    "forest = RandomForestClassifier()\n",
    "forest.fit(X_train, y_train)"
   ]
  },
  {
   "cell_type": "code",
   "execution_count": 24,
   "id": "thrown-martin",
   "metadata": {},
   "outputs": [],
   "source": [
    "pred = forest.predict(X_test)"
   ]
  },
  {
   "cell_type": "code",
   "execution_count": 25,
   "id": "visible-festival",
   "metadata": {},
   "outputs": [
    {
     "data": {
      "text/plain": [
       "0    76553\n",
       "1    73447\n",
       "dtype: int64"
      ]
     },
     "execution_count": 25,
     "metadata": {},
     "output_type": "execute_result"
    }
   ],
   "source": [
    "pd.Series(pred).value_counts()"
   ]
  },
  {
   "cell_type": "code",
   "execution_count": 26,
   "id": "innovative-wells",
   "metadata": {},
   "outputs": [
    {
     "data": {
      "text/plain": [
       "0.7422066666666667"
      ]
     },
     "execution_count": 26,
     "metadata": {},
     "output_type": "execute_result"
    }
   ],
   "source": [
    "sum(pred == np.array(y_test)) / len(y_test)"
   ]
  },
  {
   "cell_type": "code",
   "execution_count": 27,
   "id": "bizarre-friendly",
   "metadata": {},
   "outputs": [
    {
     "data": {
      "image/png": "[encoded data removed]",
      "text/plain": [
       "<Figure size 576x576 with 2 Axes>"
      ]
     },
     "metadata": {
      "needs_background": "light"
     },
     "output_type": "display_data"
    }
   ],
   "source": [
    "X_fig, ax = plt.subplots(figsize=(8, 8))\n",
    "plot_confusion_matrix(forest, X_test, y_test, ax=ax)\n",
    "plt.show()"
   ]
  }
 ],
 "metadata": {
  "kernelspec": {
   "display_name": "Python 3",
   "language": "python",
   "name": "python3"
  },
  "language_info": {
   "codemirror_mode": {
    "name": "ipython",
    "version": 3
   },
   "file_extension": ".py",
   "mimetype": "text/x-python",
   "name": "python",
   "nbconvert_exporter": "python",
   "pygments_lexer": "ipython3",
   "version": "3.8.5"
  }
 },
 "nbformat": 4,
 "nbformat_minor": 5
}
