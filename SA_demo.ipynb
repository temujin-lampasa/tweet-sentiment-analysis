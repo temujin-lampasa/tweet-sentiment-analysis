{
 "cells": [
  {
   "cell_type": "code",
   "execution_count": 1,
   "id": "smooth-determination",
   "metadata": {},
   "outputs": [],
   "source": [
    "import pandas as pd\n",
    "import nltk\n",
    "from nltk.corpus import stopwords\n",
    "import re\n",
    "from gensim.models import Word2Vec\n",
    "# from sklearn.naive_bayes import GaussianNB\n",
    "from sklearn.ensemble import RandomForestClassifier\n",
    "import numpy as np\n",
    "from sklearn.metrics import plot_confusion_matrix\n",
    "import matplotlib.pyplot as plt"
   ]
  },
  {
   "cell_type": "markdown",
   "id": "interpreted-university",
   "metadata": {},
   "source": [
    "Dataset: https://www.kaggle.com/kazanova/sentiment140"
   ]
  },
  {
   "cell_type": "code",
   "execution_count": 2,
   "id": "sustained-scoop",
   "metadata": {},
   "outputs": [],
   "source": [
    "df = pd.read_csv(\"training.1600000.processed.noemoticon.csv\", header=None, encoding = \"ISO-8859-1\")\n",
    "df.columns = ['target', 'id', 'date', 'flag', 'user', 'text']"
   ]
  },
  {
   "cell_type": "code",
   "execution_count": 3,
   "id": "nasty-calculator",
   "metadata": {},
   "outputs": [
    {
     "data": {
      "text/html": [
       "<div>\n",
       "<style scoped>\n",
       "    .dataframe tbody tr th:only-of-type {\n",
       "        vertical-align: middle;\n",
       "    }\n",
       "\n",
       "    .dataframe tbody tr th {\n",
       "        vertical-align: top;\n",
       "    }\n",
       "\n",
       "    .dataframe thead th {\n",
       "        text-align: right;\n",
       "    }\n",
       "</style>\n",
       "<table border=\"1\" class=\"dataframe\">\n",
       "  <thead>\n",
       "    <tr style=\"text-align: right;\">\n",
       "      <th></th>\n",
       "      <th>target</th>\n",
       "      <th>id</th>\n",
       "      <th>date</th>\n",
       "      <th>flag</th>\n",
       "      <th>user</th>\n",
       "      <th>text</th>\n",
       "    </tr>\n",
       "  </thead>\n",
       "  <tbody>\n",
       "    <tr>\n",
       "      <th>0</th>\n",
       "      <td>0</td>\n",
       "      <td>1467810369</td>\n",
       "      <td>Mon Apr 06 22:19:45 PDT 2009</td>\n",
       "      <td>NO_QUERY</td>\n",
       "      <td>_TheSpecialOne_</td>\n",
       "      <td>@switchfoot http://twitpic.com/2y1zl - Awww, t...</td>\n",
       "    </tr>\n",
       "    <tr>\n",
       "      <th>1</th>\n",
       "      <td>0</td>\n",
       "      <td>1467810672</td>\n",
       "      <td>Mon Apr 06 22:19:49 PDT 2009</td>\n",
       "      <td>NO_QUERY</td>\n",
       "      <td>scotthamilton</td>\n",
       "      <td>is upset that he can't update his Facebook by ...</td>\n",
       "    </tr>\n",
       "    <tr>\n",
       "      <th>2</th>\n",
       "      <td>0</td>\n",
       "      <td>1467810917</td>\n",
       "      <td>Mon Apr 06 22:19:53 PDT 2009</td>\n",
       "      <td>NO_QUERY</td>\n",
       "      <td>mattycus</td>\n",
       "      <td>@Kenichan I dived many times for the ball. Man...</td>\n",
       "    </tr>\n",
       "    <tr>\n",
       "      <th>3</th>\n",
       "      <td>0</td>\n",
       "      <td>1467811184</td>\n",
       "      <td>Mon Apr 06 22:19:57 PDT 2009</td>\n",
       "      <td>NO_QUERY</td>\n",
       "      <td>ElleCTF</td>\n",
       "      <td>my whole body feels itchy and like its on fire</td>\n",
       "    </tr>\n",
       "    <tr>\n",
       "      <th>4</th>\n",
       "      <td>0</td>\n",
       "      <td>1467811193</td>\n",
       "      <td>Mon Apr 06 22:19:57 PDT 2009</td>\n",
       "      <td>NO_QUERY</td>\n",
       "      <td>Karoli</td>\n",
       "      <td>@nationwideclass no, it's not behaving at all....</td>\n",
       "    </tr>\n",
       "  </tbody>\n",
       "</table>\n",
       "</div>"
      ],
      "text/plain": [
       "   target          id                          date      flag  \\\n",
       "0       0  1467810369  Mon Apr 06 22:19:45 PDT 2009  NO_QUERY   \n",
       "1       0  1467810672  Mon Apr 06 22:19:49 PDT 2009  NO_QUERY   \n",
       "2       0  1467810917  Mon Apr 06 22:19:53 PDT 2009  NO_QUERY   \n",
       "3       0  1467811184  Mon Apr 06 22:19:57 PDT 2009  NO_QUERY   \n",
       "4       0  1467811193  Mon Apr 06 22:19:57 PDT 2009  NO_QUERY   \n",
       "\n",
       "              user                                               text  \n",
       "0  _TheSpecialOne_  @switchfoot http://twitpic.com/2y1zl - Awww, t...  \n",
       "1    scotthamilton  is upset that he can't update his Facebook by ...  \n",
       "2         mattycus  @Kenichan I dived many times for the ball. Man...  \n",
       "3          ElleCTF    my whole body feels itchy and like its on fire   \n",
       "4           Karoli  @nationwideclass no, it's not behaving at all....  "
      ]
     },
     "execution_count": 3,
     "metadata": {},
     "output_type": "execute_result"
    }
   ],
   "source": [
    "df.head()"
   ]
  },
  {
   "cell_type": "code",
   "execution_count": 4,
   "id": "controversial-tuner",
   "metadata": {},
   "outputs": [],
   "source": [
    "# Select equal number of positives and negatives\n",
    "SIZE = 100_000\n",
    "HALF = df.shape[0]//2\n",
    "df = df[HALF-SIZE//2 : HALF + SIZE//2]\n",
    "df = df[['target', 'text']]\n",
    "\n",
    "# Convert 4 (positive sentiment) to 1\n",
    "df['target'].loc[df['target']==4]=1"
   ]
  },
  {
   "cell_type": "code",
   "execution_count": 5,
   "id": "precise-eclipse",
   "metadata": {},
   "outputs": [
    {
     "data": {
      "text/plain": [
       "0    50000\n",
       "1    50000\n",
       "Name: target, dtype: int64"
      ]
     },
     "execution_count": 5,
     "metadata": {},
     "output_type": "execute_result"
    }
   ],
   "source": [
    "df['target'].value_counts()"
   ]
  },
  {
   "cell_type": "markdown",
   "id": "whole-january",
   "metadata": {},
   "source": [
    "#### Preprocessing:"
   ]
  },
  {
   "cell_type": "markdown",
   "id": "structural-topic",
   "metadata": {},
   "source": [
    "From: https://github.com/francisbautista/cs174/blob/master/Notebooks/L04%20-%20Word2Vec.ipynb"
   ]
  },
  {
   "cell_type": "code",
   "execution_count": 6,
   "id": "thrown-garbage",
   "metadata": {},
   "outputs": [],
   "source": [
    "stop = set(stopwords.words('english'))\n",
    "def preprocess(text):\n",
    "    text=text.lower()\n",
    "    text=re.sub('[^0-9a-z]+',' ',text)\n",
    "    split = text.split()\n",
    "    stopped = [i for i in split if i not in stop]\n",
    "    return(stopped)"
   ]
  },
  {
   "cell_type": "code",
   "execution_count": 7,
   "id": "essential-death",
   "metadata": {},
   "outputs": [],
   "source": [
    "df['text'] = df['text'].apply(preprocess)"
   ]
  },
  {
   "cell_type": "markdown",
   "id": "historical-cathedral",
   "metadata": {
    "tags": []
   },
   "source": [
    "#### Find word embeddings with Word2Vec"
   ]
  },
  {
   "cell_type": "code",
   "execution_count": 8,
   "id": "white-defense",
   "metadata": {},
   "outputs": [],
   "source": [
    "model = Word2Vec(vector_size=100,window=5,min_count=30, sg=0, alpha = 0.025)\n",
    "model.build_vocab(df['text'])"
   ]
  },
  {
   "cell_type": "code",
   "execution_count": 9,
   "id": "natural-contribution",
   "metadata": {},
   "outputs": [
    {
     "data": {
      "text/plain": [
       "(10626670, 15747320)"
      ]
     },
     "execution_count": 9,
     "metadata": {},
     "output_type": "execute_result"
    }
   ],
   "source": [
    "model.train(df['text'], total_examples=model.corpus_count, epochs=20)"
   ]
  },
  {
   "cell_type": "code",
   "execution_count": 10,
   "id": "informal-gravity",
   "metadata": {},
   "outputs": [
    {
     "data": {
      "text/plain": [
       "array([ 5.6256479e-01, -6.5644398e-02, -3.6620575e-01,  2.0971662e-01,\n",
       "       -1.0280254e-01,  1.7736392e-03, -2.3424974e-01, -7.4640214e-01,\n",
       "       -8.9280659e-01,  2.6503763e-01, -1.1599830e+00,  2.4756449e-01,\n",
       "        5.4239857e-01,  4.9730119e-01, -3.4450895e-01,  1.1718965e+00,\n",
       "       -1.4173559e+00, -1.5769085e+00,  1.5187401e+00, -6.2471223e-01,\n",
       "       -6.8684548e-01,  1.3039958e+00,  5.3366131e-01,  4.2881280e-01,\n",
       "        9.1651690e-01,  1.8119851e-01, -6.4959985e-01, -7.3818880e-01,\n",
       "       -5.5283481e-01, -1.3477907e+00,  1.8017404e+00, -5.6528570e-03,\n",
       "       -5.3209174e-01,  3.8348410e-01,  1.4644880e+00,  1.3866477e-01,\n",
       "       -1.8736236e-01, -1.3223215e+00,  1.4197987e+00,  6.2105578e-01,\n",
       "        6.0636562e-01, -4.4669566e-01, -1.0377866e+00,  2.6760966e-01,\n",
       "       -1.2374262e+00, -1.7942015e+00,  1.4410255e+00,  8.3428943e-01,\n",
       "        9.1442889e-01,  6.1276883e-01, -7.5289750e-01,  2.8691834e-01,\n",
       "       -1.4383949e-01,  8.2572609e-01,  2.8765848e-01,  1.4102911e+00,\n",
       "        2.0434945e+00, -1.8976601e+00, -2.1397968e-01,  9.2733818e-01,\n",
       "        5.1679009e-01,  3.8645265e-01, -9.3869829e-01, -6.5949738e-02,\n",
       "       -1.1662805e+00,  5.6410027e-01,  1.7841574e+00, -1.5597924e+00,\n",
       "        1.0742478e+00,  4.7014534e-02,  1.0067132e+00,  7.4872833e-01,\n",
       "       -8.1713092e-01,  6.9097537e-01, -1.4671084e+00,  4.2262682e-01,\n",
       "        5.8360791e-01, -4.7975662e-01,  1.0889705e+00,  4.6105665e-01,\n",
       "       -1.1748705e+00,  4.0055645e-01, -8.8190544e-01,  1.6352609e-01,\n",
       "        2.6466501e-01,  3.2200107e-01,  5.9662914e-01,  5.4338801e-01,\n",
       "        1.1070762e+00, -5.7887319e-02,  5.1010555e-01,  9.6668220e-01,\n",
       "        1.5293221e+00, -1.0377573e+00, -4.6952984e-01,  4.1051731e-01,\n",
       "        1.9360979e-01,  8.2727247e-01,  1.3354352e+00, -8.3445650e-01],\n",
       "      dtype=float32)"
      ]
     },
     "execution_count": 10,
     "metadata": {},
     "output_type": "execute_result"
    }
   ],
   "source": [
    "model.wv['test']"
   ]
  },
  {
   "cell_type": "code",
   "execution_count": 11,
   "id": "smooth-subscriber",
   "metadata": {},
   "outputs": [
    {
     "data": {
      "text/plain": [
       "[('exam', 0.7155084013938904),\n",
       " ('math', 0.6561870574951172),\n",
       " ('maths', 0.6191507577896118),\n",
       " ('essay', 0.6005351543426514),\n",
       " ('study', 0.5496167540550232),\n",
       " ('tests', 0.5337419509887695),\n",
       " ('report', 0.5098921060562134),\n",
       " ('classes', 0.4971778094768524),\n",
       " ('exams', 0.4894334375858307),\n",
       " ('lesson', 0.4881514310836792)]"
      ]
     },
     "execution_count": 11,
     "metadata": {},
     "output_type": "execute_result"
    }
   ],
   "source": [
    "model.wv.most_similar('test')"
   ]
  },
  {
   "cell_type": "markdown",
   "id": "responsible-modification",
   "metadata": {},
   "source": [
    "#### Get avg. vector for each tweet"
   ]
  },
  {
   "cell_type": "code",
   "execution_count": 12,
   "id": "legitimate-gibraltar",
   "metadata": {},
   "outputs": [],
   "source": [
    "# http://yaronvazana.com/2018/09/20/average-word-vectors-generate-document-paragraph-sentence-embeddings/\n",
    "\n",
    "def get_avg_vec(list_of_words, model=None):\n",
    "    words = [word for word in list_of_words if word in model.wv]\n",
    "    \n",
    "    if len(words) > 0:\n",
    "        res = np.mean(model.wv[words], axis=0)\n",
    "    else:\n",
    "        res = np.zeros(model.vector_size)\n",
    "    assert res.shape == (100,)\n",
    "    return res"
   ]
  },
  {
   "cell_type": "code",
   "execution_count": 13,
   "id": "certified-disposition",
   "metadata": {},
   "outputs": [],
   "source": [
    "df['avg_vec'] = df['text'].apply(get_avg_vec, model=model)"
   ]
  },
  {
   "cell_type": "code",
   "execution_count": 14,
   "id": "early-classification",
   "metadata": {},
   "outputs": [
    {
     "data": {
      "text/html": [
       "<div>\n",
       "<style scoped>\n",
       "    .dataframe tbody tr th:only-of-type {\n",
       "        vertical-align: middle;\n",
       "    }\n",
       "\n",
       "    .dataframe tbody tr th {\n",
       "        vertical-align: top;\n",
       "    }\n",
       "\n",
       "    .dataframe thead th {\n",
       "        text-align: right;\n",
       "    }\n",
       "</style>\n",
       "<table border=\"1\" class=\"dataframe\">\n",
       "  <thead>\n",
       "    <tr style=\"text-align: right;\">\n",
       "      <th></th>\n",
       "      <th>target</th>\n",
       "      <th>text</th>\n",
       "      <th>avg_vec</th>\n",
       "    </tr>\n",
       "  </thead>\n",
       "  <tbody>\n",
       "    <tr>\n",
       "      <th>0</th>\n",
       "      <td>0</td>\n",
       "      <td>[opotopo, small, slip, tryfan, weeks, back, fe...</td>\n",
       "      <td>[-0.06332786, 0.55731434, -0.001595731, -0.407...</td>\n",
       "    </tr>\n",
       "    <tr>\n",
       "      <th>1</th>\n",
       "      <td>0</td>\n",
       "      <td>[idristwilight, post, han, want, great, still,...</td>\n",
       "      <td>[-0.13186751, 0.68496656, -0.63879186, 0.43308...</td>\n",
       "    </tr>\n",
       "    <tr>\n",
       "      <th>2</th>\n",
       "      <td>0</td>\n",
       "      <td>[rose, 7, ohh, poor, jan, please, tell, cans, ...</td>\n",
       "      <td>[0.2308696, 0.44366634, 0.2612708, 0.36194652,...</td>\n",
       "    </tr>\n",
       "    <tr>\n",
       "      <th>3</th>\n",
       "      <td>0</td>\n",
       "      <td>[finally, home, work, looong, day, monday]</td>\n",
       "      <td>[0.49362236, 0.49980083, -0.4381346, -0.137553...</td>\n",
       "    </tr>\n",
       "    <tr>\n",
       "      <th>4</th>\n",
       "      <td>0</td>\n",
       "      <td>[im, sad, 4, chantelle, tom]</td>\n",
       "      <td>[0.13369168, 0.27605462, -0.5643316, 0.0155861...</td>\n",
       "    </tr>\n",
       "    <tr>\n",
       "      <th>...</th>\n",
       "      <td>...</td>\n",
       "      <td>...</td>\n",
       "      <td>...</td>\n",
       "    </tr>\n",
       "    <tr>\n",
       "      <th>99995</th>\n",
       "      <td>1</td>\n",
       "      <td>[need, 8, followers, compleate, 1000, follow, ...</td>\n",
       "      <td>[-0.5362505, -0.043044843, -0.57906324, -0.236...</td>\n",
       "    </tr>\n",
       "    <tr>\n",
       "      <th>99996</th>\n",
       "      <td>1</td>\n",
       "      <td>[knew, explain, something, friend, said, star,...</td>\n",
       "      <td>[0.16625868, 0.25555652, -0.15221718, -0.44694...</td>\n",
       "    </tr>\n",
       "    <tr>\n",
       "      <th>99997</th>\n",
       "      <td>1</td>\n",
       "      <td>[done, tweeting, til, tomorrow]</td>\n",
       "      <td>[0.5272579, 0.0430543, 0.021822512, -0.6782348...</td>\n",
       "    </tr>\n",
       "    <tr>\n",
       "      <th>99998</th>\n",
       "      <td>1</td>\n",
       "      <td>[cmozilo, act, ii, set, pretty, breath, taking...</td>\n",
       "      <td>[0.20755321, 0.15890639, -0.084227555, 0.45783...</td>\n",
       "    </tr>\n",
       "    <tr>\n",
       "      <th>99999</th>\n",
       "      <td>1</td>\n",
       "      <td>[artfire, account, sell, fun, things, suggest,...</td>\n",
       "      <td>[-0.015653843, -0.028138721, -0.45173183, 0.18...</td>\n",
       "    </tr>\n",
       "  </tbody>\n",
       "</table>\n",
       "<p>100000 rows × 3 columns</p>\n",
       "</div>"
      ],
      "text/plain": [
       "       target                                               text  \\\n",
       "0           0  [opotopo, small, slip, tryfan, weeks, back, fe...   \n",
       "1           0  [idristwilight, post, han, want, great, still,...   \n",
       "2           0  [rose, 7, ohh, poor, jan, please, tell, cans, ...   \n",
       "3           0         [finally, home, work, looong, day, monday]   \n",
       "4           0                       [im, sad, 4, chantelle, tom]   \n",
       "...       ...                                                ...   \n",
       "99995       1  [need, 8, followers, compleate, 1000, follow, ...   \n",
       "99996       1  [knew, explain, something, friend, said, star,...   \n",
       "99997       1                    [done, tweeting, til, tomorrow]   \n",
       "99998       1  [cmozilo, act, ii, set, pretty, breath, taking...   \n",
       "99999       1  [artfire, account, sell, fun, things, suggest,...   \n",
       "\n",
       "                                                 avg_vec  \n",
       "0      [-0.06332786, 0.55731434, -0.001595731, -0.407...  \n",
       "1      [-0.13186751, 0.68496656, -0.63879186, 0.43308...  \n",
       "2      [0.2308696, 0.44366634, 0.2612708, 0.36194652,...  \n",
       "3      [0.49362236, 0.49980083, -0.4381346, -0.137553...  \n",
       "4      [0.13369168, 0.27605462, -0.5643316, 0.0155861...  \n",
       "...                                                  ...  \n",
       "99995  [-0.5362505, -0.043044843, -0.57906324, -0.236...  \n",
       "99996  [0.16625868, 0.25555652, -0.15221718, -0.44694...  \n",
       "99997  [0.5272579, 0.0430543, 0.021822512, -0.6782348...  \n",
       "99998  [0.20755321, 0.15890639, -0.084227555, 0.45783...  \n",
       "99999  [-0.015653843, -0.028138721, -0.45173183, 0.18...  \n",
       "\n",
       "[100000 rows x 3 columns]"
      ]
     },
     "execution_count": 14,
     "metadata": {},
     "output_type": "execute_result"
    }
   ],
   "source": [
    "df.reset_index(drop=True, inplace=True)\n",
    "df"
   ]
  },
  {
   "cell_type": "markdown",
   "id": "superb-drawing",
   "metadata": {},
   "source": [
    "#### Split into train, test, validation sets\n",
    "\n",
    "* 70% = training\n",
    "* 15% = test\n",
    "* 15% = validation"
   ]
  },
  {
   "cell_type": "markdown",
   "id": "affected-pillow",
   "metadata": {},
   "source": [
    "Shuffle the dataset:"
   ]
  },
  {
   "cell_type": "code",
   "execution_count": 15,
   "id": "natural-evans",
   "metadata": {},
   "outputs": [],
   "source": [
    "df_shuffled = df.sample(frac=1)\n",
    "df_shuffled.reset_index(inplace=True, drop=True)"
   ]
  },
  {
   "cell_type": "code",
   "execution_count": 16,
   "id": "exclusive-balance",
   "metadata": {},
   "outputs": [],
   "source": [
    "train_set = df_shuffled.iloc[:70_000]\n",
    "test_set = df_shuffled.iloc[70_000:85_000]\n",
    "val_set = df_shuffled.iloc[85_000:]\n",
    "\n",
    "X_train = train_set['avg_vec'].to_numpy().reshape(-1, 1)\n",
    "y_train = train_set['target'].to_numpy()\n",
    "\n",
    "X_test = test_set['avg_vec'].to_numpy().reshape(-1, 1)\n",
    "y_test = test_set['target']\n",
    "\n",
    "X_val = val_set['avg_vec'].to_numpy().reshape(-1, 1)\n",
    "y_val = val_set['target']"
   ]
  },
  {
   "cell_type": "code",
   "execution_count": 17,
   "id": "grave-scheduling",
   "metadata": {},
   "outputs": [],
   "source": [
    "X_train = np.concatenate(np.concatenate(X_train, axis=0), axis=0).reshape(-1, 100)\n",
    "X_test = np.concatenate(np.concatenate(X_test, axis=0), axis=0).reshape(-1, 100)\n",
    "X_val = np.concatenate(np.concatenate(X_val, axis=0), axis=0).reshape(-1, 100)"
   ]
  },
  {
   "cell_type": "code",
   "execution_count": 18,
   "id": "decent-jamaica",
   "metadata": {},
   "outputs": [
    {
     "data": {
      "text/plain": [
       "(70000, 100)"
      ]
     },
     "execution_count": 18,
     "metadata": {},
     "output_type": "execute_result"
    }
   ],
   "source": [
    "X_train.shape"
   ]
  },
  {
   "cell_type": "markdown",
   "id": "exclusive-disabled",
   "metadata": {},
   "source": [
    "#### Classify with RandomForest"
   ]
  },
  {
   "cell_type": "code",
   "execution_count": 19,
   "id": "spatial-stack",
   "metadata": {},
   "outputs": [
    {
     "data": {
      "text/plain": [
       "RandomForestClassifier()"
      ]
     },
     "execution_count": 19,
     "metadata": {},
     "output_type": "execute_result"
    }
   ],
   "source": [
    "forest = RandomForestClassifier()\n",
    "forest.fit(X_train, y_train)"
   ]
  },
  {
   "cell_type": "code",
   "execution_count": 20,
   "id": "failing-change",
   "metadata": {},
   "outputs": [],
   "source": [
    "pred = forest.predict(X_test)"
   ]
  },
  {
   "cell_type": "code",
   "execution_count": 21,
   "id": "radio-howard",
   "metadata": {},
   "outputs": [
    {
     "data": {
      "text/plain": [
       "0    7509\n",
       "1    7491\n",
       "dtype: int64"
      ]
     },
     "execution_count": 21,
     "metadata": {},
     "output_type": "execute_result"
    }
   ],
   "source": [
    "pd.Series(pred).value_counts()"
   ]
  },
  {
   "cell_type": "code",
   "execution_count": 22,
   "id": "special-tokyo",
   "metadata": {},
   "outputs": [
    {
     "data": {
      "text/plain": [
       "0.7306666666666667"
      ]
     },
     "execution_count": 22,
     "metadata": {},
     "output_type": "execute_result"
    }
   ],
   "source": [
    "sum(pred == np.array(y_test)) / len(y_test)"
   ]
  },
  {
   "cell_type": "code",
   "execution_count": 23,
   "id": "patent-prophet",
   "metadata": {},
   "outputs": [
    {
     "data": {
      "image/png": "[encoded data removed]",
      "text/plain": [
       "<Figure size 576x576 with 2 Axes>"
      ]
     },
     "metadata": {
      "needs_background": "light"
     },
     "output_type": "display_data"
    }
   ],
   "source": [
    "fig, ax = plt.subplots(figsize=(8, 8))\n",
    "plot_confusion_matrix(forest, X_test, y_test, ax=ax)\n",
    "plt.show()"
   ]
  }
 ],
 "metadata": {
  "kernelspec": {
   "display_name": "Python 3",
   "language": "python",
   "name": "python3"
  },
  "language_info": {
   "codemirror_mode": {
    "name": "ipython",
    "version": 3
   },
   "file_extension": ".py",
   "mimetype": "text/x-python",
   "name": "python",
   "nbconvert_exporter": "python",
   "pygments_lexer": "ipython3",
   "version": "3.8.5"
  }
 },
 "nbformat": 4,
 "nbformat_minor": 5
}
